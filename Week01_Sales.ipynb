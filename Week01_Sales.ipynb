{
 "cells": [
  {
   "cell_type": "markdown",
   "id": "36ee1782-f27d-431a-be85-40b2543beb0e",
   "metadata": {},
   "source": [
    "# **Load needed Libraries and Load Sales Data Set**\n"
   ]
  },
  {
   "cell_type": "code",
   "execution_count": 25,
   "id": "071425bf-57ef-49c9-a167-54fa4e2b4a1c",
   "metadata": {},
   "outputs": [
    {
     "name": "stdout",
     "output_type": "stream",
     "text": [
      "         date product_id store_location  sales_amount\n",
      "0  2020-09-07       P014        Chicago     55.147061\n",
      "1  2023-04-18       P004        Houston    320.173080\n",
      "2  2021-09-05       P018    Los Angeles    152.400170\n",
      "3  2021-12-11       P009        Phoenix    115.368982\n",
      "4  2021-04-05       P011        Phoenix    117.862400\n"
     ]
    }
   ],
   "source": [
    "import pandas as pd\n",
    "\n",
    "# Load sales data from CSV\n",
    "sales_data = pd.read_csv('Sales.csv')\n",
    "\n",
    "# Display the first few rows of the dataset\n",
    "print(sales_data.head())"
   ]
  },
  {
   "cell_type": "code",
   "execution_count": 26,
   "id": "d111e183-b985-4f79-aeaa-c68f359035da",
   "metadata": {},
   "outputs": [
    {
     "data": {
      "text/html": [
       "\n",
       "        <iframe\n",
       "            width=\"100%\"\n",
       "            height=\"650\"\n",
       "            src=\"http://127.0.0.1:8056/\"\n",
       "            frameborder=\"0\"\n",
       "            allowfullscreen\n",
       "            \n",
       "        ></iframe>\n",
       "        "
      ],
      "text/plain": [
       "<IPython.lib.display.IFrame at 0x205ab92d190>"
      ]
     },
     "metadata": {},
     "output_type": "display_data"
    }
   ],
   "source": [
    "import dash\n",
    "from dash import dcc, html\n",
    "import plotly.express as px\n",
    "import pandas as pd\n",
    "\n",
    "# Initialize the Dash app\n",
    "app = dash.Dash(__name__)\n",
    "\n",
    "# Aggregate sales data by store location\n",
    "sales_by_location = sales_data.groupby('store_location')['sales_amount'].sum().reset_index()\n",
    "\n",
    "# Create a bar chart\n",
    "fig = px.bar(sales_by_location, x='store_location', y='sales_amount', title='Sales by Store Location')\n",
    "\n",
    "# Set up the layout of the app\n",
    "app.layout = html.Div(children=[\n",
    "    html.H1(children='Sales Dashboard'),\n",
    "    dcc.Graph(figure=fig)\n",
    "])\n",
    "\n",
    "# Run the server\n",
    "if __name__ == '__main__':\n",
    "    app.run_server(debug=True, port=8056)  # Use port 8051 or any other available port\n",
    "\n"
   ]
  },
  {
   "cell_type": "code",
   "execution_count": null,
   "id": "f134c561-8863-408e-8a2e-f60eb0aee837",
   "metadata": {},
   "outputs": [],
   "source": []
  }
 ],
 "metadata": {
  "kernelspec": {
   "display_name": "Python 3 (ipykernel)",
   "language": "python",
   "name": "python3"
  },
  "language_info": {
   "codemirror_mode": {
    "name": "ipython",
    "version": 3
   },
   "file_extension": ".py",
   "mimetype": "text/x-python",
   "name": "python",
   "nbconvert_exporter": "python",
   "pygments_lexer": "ipython3",
   "version": "3.11.7"
  }
 },
 "nbformat": 4,
 "nbformat_minor": 5
}
